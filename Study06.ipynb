{
 "cells": [
  {
   "cell_type": "code",
   "execution_count": 13,
   "metadata": {},
   "outputs": [
    {
     "data": {
      "text/plain": [
       "[1, [3], 3, 4]"
      ]
     },
     "execution_count": 13,
     "metadata": {},
     "output_type": "execute_result"
    }
   ],
   "source": [
    "b = (1,2,3,4)\n",
    "b\n",
    "b = (3,4,5,6)\n",
    "b\n",
    "a = [1,2,3,4]\n",
    "a[1] = []\n",
    "a\n",
    "\n",
    "#인덱스 값이 없어서 수정 할 수 없음\n",
    "a[1].append(5)\n",
    "a[1].append(3)\n",
    "a[1][0]\n",
    "del a[1][0]\n",
    "a"
   ]
  },
  {
   "cell_type": "code",
   "execution_count": null,
   "metadata": {},
   "outputs": [
    {
     "data": {
      "text/plain": [
       "['', '', '', '', '', '', '', '', '', '']"
      ]
     },
     "execution_count": 24,
     "metadata": {},
     "output_type": "execute_result"
    }
   ],
   "source": [
    "a=[]\n",
    "len(a)\n",
    "for i in range(10):\n",
    "    a.append(\"\")\n",
    "len(a)\n",
    "a"
   ]
  },
  {
   "cell_type": "code",
   "execution_count": null,
   "metadata": {},
   "outputs": [],
   "source": []
  },
  {
   "cell_type": "code",
   "execution_count": 35,
   "metadata": {},
   "outputs": [
    {
     "data": {
      "text/plain": [
       "[['', 'B', '', '', '', '', '', '', '', ''],\n",
       " ['', 'B', '', '', '', '', '', '', '', ''],\n",
       " ['', 'B', '', '', '', '', '', '', '', ''],\n",
       " ['', 'B', '', '', '', '', '', '', '', ''],\n",
       " ['', 'B', '', '', '', '', '', '', '', ''],\n",
       " ['', 'B', '', '', '', '', '', '', '', ''],\n",
       " ['', 'B', '', '', '', '', '', '', '', ''],\n",
       " ['', 'B', '', '', '', '', '', '', '', ''],\n",
       " ['', 'B', '', '', '', '', '', '', '', ''],\n",
       " ['', 'B', '', '', '', '', '', '', '', '']]"
      ]
     },
     "execution_count": 35,
     "metadata": {},
     "output_type": "execute_result"
    }
   ],
   "source": [
    "a=[]*10\n",
    "a.append('')\n",
    "a=a*10\n",
    "a\n",
    "a[1]=\"b\"\n",
    "a=[['']*10]*10\n",
    "a[4][1]=\"B\"\n",
    "a"
   ]
  },
  {
   "cell_type": "code",
   "execution_count": 37,
   "metadata": {},
   "outputs": [
    {
     "data": {
      "text/plain": [
       "[['', '', '', '', '', '', '', '', '', ''],\n",
       " ['', '', '', '', '', '', '', '', '', ''],\n",
       " ['', '', '', '', '', '', '', '', '', ''],\n",
       " ['', '', '', '', '', '', '', '', '', ''],\n",
       " ['', '', '', 'b', '', '', '', '', '', ''],\n",
       " ['', '', '', '', '', '', '', '', '', ''],\n",
       " ['', '', '', '', '', '', '', '', '', ''],\n",
       " ['', '', '', '', '', '', '', '', '', ''],\n",
       " ['', '', '', '', '', '', '', '', '', ''],\n",
       " ['', '', '', '', '', '', '', '', '', '']]"
      ]
     },
     "execution_count": 37,
     "metadata": {},
     "output_type": "execute_result"
    }
   ],
   "source": [
    "a=[[\"\"]*10 for i in range(10)]\n",
    "a[4][3]=\"b\"\n",
    "a"
   ]
  },
  {
   "cell_type": "code",
   "execution_count": 39,
   "metadata": {},
   "outputs": [
    {
     "name": "stdout",
     "output_type": "stream",
     "text": [
      "1\n",
      "2\n",
      "메롱\n",
      "4\n",
      "5\n",
      "6\n",
      "7\n",
      "8\n",
      "9\n"
     ]
    }
   ],
   "source": [
    "a=[1,2,3,4,5,6,7,8,9]\n",
    "for i in a:\n",
    "    print(\"메롱\" if i == 3 else i)"
   ]
  },
  {
   "cell_type": "code",
   "execution_count": 41,
   "metadata": {},
   "outputs": [
    {
     "name": "stdout",
     "output_type": "stream",
     "text": [
      "1\n",
      "2\n",
      "메롱\n",
      "4\n",
      "5\n",
      "6\n",
      "7\n",
      "8\n",
      "9\n"
     ]
    }
   ],
   "source": [
    "a=[1,2,3,4,5,6,7,8,9]\n",
    "for i in a:\n",
    "    if i == 3:\n",
    "        print(\"메롱\")\n",
    "    else:\n",
    "        print(i)"
   ]
  },
  {
   "cell_type": "code",
   "execution_count": 45,
   "metadata": {},
   "outputs": [
    {
     "data": {
      "text/plain": [
       "''"
      ]
     },
     "execution_count": 45,
     "metadata": {},
     "output_type": "execute_result"
    }
   ],
   "source": [
    "a = str(input())\n",
    "a"
   ]
  },
  {
   "cell_type": "code",
   "execution_count": null,
   "metadata": {},
   "outputs": [
    {
     "name": "stdout",
     "output_type": "stream",
     "text": [
      "안녕하세요.\n",
      "돈을 투입해주세요.\n",
      "========자판기 메뉴========\n",
      "콜라    1000\n",
      "사이다    1200\n",
      "오렌지 주스    1500\n",
      "커피    2000\n",
      "생수    800\n",
      "==========================\n",
      "투입금액 2000\n",
      "음료를 선택하거나 잔액을 반환하세요.\n",
      "다시 선택해주세요.\n",
      "투입금액 2000\n",
      "음료를 선택하거나 잔액을 반환하세요.\n"
     ]
    },
    {
     "ename": "ValueError",
     "evalue": "invalid literal for int() with base 10: ''",
     "output_type": "error",
     "traceback": [
      "\u001b[1;31m---------------------------------------------------------------------------\u001b[0m",
      "\u001b[1;31mValueError\u001b[0m                                Traceback (most recent call last)",
      "Cell \u001b[1;32mIn[102], line 25\u001b[0m\n\u001b[0;32m     23\u001b[0m \u001b[38;5;28mprint\u001b[39m (\u001b[38;5;124m\"\u001b[39m\u001b[38;5;124m음료를 선택하거나 잔액을 반환하세요.\u001b[39m\u001b[38;5;124m\"\u001b[39m)\n\u001b[0;32m     24\u001b[0m choice \u001b[38;5;241m=\u001b[39m \u001b[38;5;28minput\u001b[39m()\n\u001b[1;32m---> 25\u001b[0m \u001b[38;5;28;01mif\u001b[39;00m \u001b[38;5;241m1\u001b[39m\u001b[38;5;241m<\u001b[39m\u001b[38;5;241m=\u001b[39m\u001b[38;5;28;43mint\u001b[39;49m\u001b[43m(\u001b[49m\u001b[43mchoice\u001b[49m\u001b[43m)\u001b[49m\u001b[38;5;241m<\u001b[39m\u001b[38;5;28mlen\u001b[39m(drinks):\n\u001b[0;32m     26\u001b[0m     \u001b[38;5;28mprint\u001b[39m (\u001b[38;5;124mf\u001b[39m\u001b[38;5;124m\"\u001b[39m\u001b[38;5;132;01m{\u001b[39;00mdrinks[\u001b[38;5;28mint\u001b[39m(choice)]\u001b[38;5;132;01m}\u001b[39;00m\u001b[38;5;124m를 선택하셨습니다.\u001b[39m\u001b[38;5;124m\"\u001b[39m)\n\u001b[0;32m     27\u001b[0m     \u001b[38;5;28mprint\u001b[39m (\u001b[38;5;124mf\u001b[39m\u001b[38;5;124m\"\u001b[39m\u001b[38;5;124m잔액 \u001b[39m\u001b[38;5;132;01m{\u001b[39;00mmoney\u001b[38;5;250m \u001b[39m\u001b[38;5;241m-\u001b[39m\u001b[38;5;250m \u001b[39mprices[\u001b[38;5;28mint\u001b[39m(choice)]\u001b[38;5;132;01m}\u001b[39;00m\u001b[38;5;124m\"\u001b[39m)\n",
      "\u001b[1;31mValueError\u001b[0m: invalid literal for int() with base 10: ''"
     ]
    }
   ],
   "source": [
    "#Q1 자바에서 만들어 본 자판기 기능을 구현해 보세요.\n",
    "#a= input()\n",
    "drinks = [\"콜라\", \"사이다\", \"오렌지 주스\", \"커피\", \"생수\"]\n",
    "prices = [1000, 1200, 1500, 2000, 800]\n",
    "\n",
    "print (\"안녕하세요.\")\n",
    "print (\"돈을 투입해주세요.\")\n",
    "print (\"========자판기 메뉴========\")\n",
    "i=0\n",
    "for i in range(len(drinks)):\n",
    "    print (f\"{drinks[i]}    {prices[i]}\")\n",
    "    i+=1\n",
    "print (\"==========================\")\n",
    "\n",
    "\n",
    "while 1:\n",
    "    money = input()\n",
    "    if money == 'exit':\n",
    "        break\n",
    "    elif int(money) > 800:\n",
    "        #인덱스값을 이용하여 값을 넣어보기\n",
    "        print (f\"투입금액 {money}\")\n",
    "        print (\"음료를 선택하거나 잔액을 반환하세요.\")\n",
    "        \n",
    "        choice = input()\n",
    "        if 1<=int(choice)<len(drinks):\n",
    "            print (f\"{drinks[int(choice)]}를 선택하셨습니다.\")\n",
    "            print (f\"잔액 {money - prices[int(choice)]}\")\n",
    "        elif choice == \"exit\":\n",
    "            print (\"잔돈을 반환했습니다.\")\n",
    "        else :\n",
    "            print (\"다시 선택해주세요.\")\n",
    "            continue\n",
    "\n",
    "        \n",
    "\n",
    "\n",
    "\n"
   ]
  }
 ],
 "metadata": {
  "kernelspec": {
   "display_name": "Python 3",
   "language": "python",
   "name": "python3"
  },
  "language_info": {
   "codemirror_mode": {
    "name": "ipython",
    "version": 3
   },
   "file_extension": ".py",
   "mimetype": "text/x-python",
   "name": "python",
   "nbconvert_exporter": "python",
   "pygments_lexer": "ipython3",
   "version": "3.11.9"
  }
 },
 "nbformat": 4,
 "nbformat_minor": 2
}
