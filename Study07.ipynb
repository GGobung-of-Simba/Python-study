{
 "cells": [
  {
   "cell_type": "code",
   "execution_count": null,
   "metadata": {},
   "outputs": [
    {
     "name": "stdout",
     "output_type": "stream",
     "text": [
      "[[1, 10], [2, 20], [3, 30], [4, 40], [5, 50]]\n"
     ]
    }
   ],
   "source": [
    "#Q1. 1차원 배열 arry1에서 각각 10을 곱하여 2차원 배열을 만드시오\n",
    "#arr1 = [1,2,3,4,5]\n",
    "#arr3 = \n",
    "\n",
    "arr1 = [1,2,3,4,5]\n",
    "arr2 = []\n",
    "for d in arr1:\n",
    "    arr3 = []\n",
    "    # print(f'{d} * 10 = {d * 10}')\n",
    "    arr3.append(d)\n",
    "    #\n",
    "    arr3.append(d * 10)\n",
    "    arr2.append(arr3)\n",
    "print(arr2)"
   ]
  },
  {
   "cell_type": "code",
   "execution_count": 21,
   "metadata": {},
   "outputs": [],
   "source": [
    "#Q2 2차원 배열에서 각 열에 대한 목록을 출력하시오.\n",
    "arr = [\n",
    "    [1, \"홍길동\", 17],\n",
    "    [2, \"류관순\", 16],\n",
    "    [3, \"강감찬\", 78],\n",
    "    [4, \"이성계\", 42],\n",
    "    [5, \"이황\", 57]\n",
    "]\n",
    "arr2 = [\n",
    "    [1,2,3,4,5],\n",
    "    [\"홍길동\", \"류관순\", \"강감찬\", \"이성계\", \"이황\"],\n",
    "    [17, 16, 78, 42, 57]\n",
    "]"
   ]
  },
  {
   "cell_type": "code",
   "execution_count": null,
   "metadata": {},
   "outputs": [
    {
     "name": "stdout",
     "output_type": "stream",
     "text": [
      "<class 'list'> [1, 2, 3, 4, 5]\n",
      "<class 'numpy.ndarray'> [1 2 3 4 5]\n",
      "[10 20 30 40 50]\n"
     ]
    },
    {
     "data": {
      "text/plain": [
       "np.int64(1)"
      ]
     },
     "execution_count": 19,
     "metadata": {},
     "output_type": "execute_result"
    }
   ],
   "source": [
    "# Q1 문제를 numpy로 했을 경우\n",
    "import numpy as np\n",
    "# numpy의 별명을 np로 지어줌\n",
    "arr4 = np.array(arr1)\n",
    "# 질문 np.array의 의미는?\n",
    "# 넘파이 용으로 1차원 배열을 형변환해라\n",
    "# 그리고 그걸 arr4라고 말하자\n",
    "print(type(arr1), arr1)\n",
    "# 질문 type(arr1),arr1이 무슨뜻일까\n",
    "print(type(arr4), arr4)\n",
    "\n",
    "print(arr4 * 10)\n",
    "\n",
    "arr4[0]"
   ]
  },
  {
   "cell_type": "code",
   "execution_count": 30,
   "metadata": {},
   "outputs": [
    {
     "name": "stdout",
     "output_type": "stream",
     "text": [
      "<class 'numpy.ndarray'> [['1' '홍길동' '17']\n",
      " ['2' '류관순' '16']\n",
      " ['3' '강감찬' '78']\n",
      " ['4' '이성계' '42']\n",
      " ['5' '이황' '57']]\n"
     ]
    },
    {
     "data": {
      "text/plain": [
       "array(['홍길동', '류관순', '강감찬', '이성계', '이황'], dtype='<U21')"
      ]
     },
     "execution_count": 30,
     "metadata": {},
     "output_type": "execute_result"
    }
   ],
   "source": [
    "# Q2 문제를 numpy로 했을 경우\n",
    "arr5 = np.array(arr)\n",
    "#넘파이용으로 만들기 위해서 arr5번을 만들어준다\n",
    "print(type(arr5),arr5)\n",
    "arr5[0][1]\n",
    "arr5[0,1]\n",
    "arr5[:,1]\n",
    "#: 전체 / 1 1번인덱스"
   ]
  },
  {
   "cell_type": "code",
   "execution_count": 31,
   "metadata": {},
   "outputs": [
    {
     "name": "stdout",
     "output_type": "stream",
     "text": [
      "[1 2 3 4 5]\n"
     ]
    }
   ],
   "source": [
    "# Q1 문제를 numpy로 했을 경우\n",
    "import numpy as np\n",
    "# numpy의 별명을 np로 지어줌\n",
    "arr4 = np.array(arr1)\n",
    "# 질문 np.array의 의미는 열과 행을 바꾸어주라는 뜻인가?\n",
    "print(arr4)"
   ]
  }
 ],
 "metadata": {
  "kernelspec": {
   "display_name": "Python 3",
   "language": "python",
   "name": "python3"
  },
  "language_info": {
   "codemirror_mode": {
    "name": "ipython",
    "version": 3
   },
   "file_extension": ".py",
   "mimetype": "text/x-python",
   "name": "python",
   "nbconvert_exporter": "python",
   "pygments_lexer": "ipython3",
   "version": "3.11.9"
  }
 },
 "nbformat": 4,
 "nbformat_minor": 2
}
