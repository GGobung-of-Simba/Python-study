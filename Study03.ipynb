{
 "cells": [
  {
   "cell_type": "code",
   "execution_count": 29,
   "metadata": {},
   "outputs": [
    {
     "name": "stdout",
     "output_type": "stream",
     "text": [
      "참\n"
     ]
    }
   ],
   "source": [
    "if True:\n",
    "    print(\"참\")\n",
    "    #탭 1번=스페이스바 4번\n",
    "    #들여쓰기로 안의 내용문이라 보여주기\n",
    "    #if True:print(\"참\")로 해도됨"
   ]
  },
  {
   "cell_type": "code",
   "execution_count": 30,
   "metadata": {},
   "outputs": [
    {
     "name": "stdout",
     "output_type": "stream",
     "text": [
      "false\n"
     ]
    }
   ],
   "source": [
    "if 5>7:\n",
    "    print(\"ture\")\n",
    "else:\n",
    "    print(\"false\")"
   ]
  },
  {
   "cell_type": "code",
   "execution_count": null,
   "metadata": {},
   "outputs": [
    {
     "name": "stdout",
     "output_type": "stream",
     "text": [
      "5와 5가 같다\n"
     ]
    }
   ],
   "source": [
    "if 5 > 7 :\n",
    "    print (\"5가 7보다 크다\")\n",
    "elif 5 == 5:\n",
    "    print (\"5와 5가 같다\")\n",
    "else:\n",
    "    print (\"5가 7보다 작다\")\n"
   ]
  },
  {
   "cell_type": "code",
   "execution_count": 39,
   "metadata": {},
   "outputs": [],
   "source": [
    "\n",
    "while 0 :\n",
    "    print(\"출력\")\n",
    "    #1=True in python\n",
    "    #0=False in python\n",
    "    #0,1은 정수로 취급 in java\n",
    "    \n"
   ]
  },
  {
   "cell_type": "code",
   "execution_count": 42,
   "metadata": {},
   "outputs": [
    {
     "name": "stdout",
     "output_type": "stream",
     "text": [
      "출력\n",
      "출력\n",
      "출력\n",
      "출력\n",
      "출력\n"
     ]
    }
   ],
   "source": [
    "b = 5\n",
    "a = True\n",
    "while a :\n",
    "    print (\"출력\")\n",
    "    b -= 1\n",
    "    if b == 0:\n",
    "        break\n",
    "#\"출력\"의 갯수를 정하려면\n",
    "# 상태값을 밖에서 정해줘야함.    "
   ]
  },
  {
   "cell_type": "code",
   "execution_count": null,
   "metadata": {},
   "outputs": [
    {
     "name": "stdout",
     "output_type": "stream",
     "text": [
      "출력0\n",
      "출력1\n",
      "출력2\n",
      "출력3\n",
      "출력4\n"
     ]
    }
   ],
   "source": [
    "a = True\n",
    "b = 0\n",
    "while a :\n",
    "    print (f\"출력{b}\")\n",
    "    b += 1\n",
    "    if b >= 5:\n",
    "        a = False\n",
    "        #선생님이 짜주신 코드\n",
    "\n"
   ]
  },
  {
   "cell_type": "code",
   "execution_count": null,
   "metadata": {},
   "outputs": [
    {
     "name": "stdout",
     "output_type": "stream",
     "text": [
      "출력0\n",
      "출력1\n",
      "출력2\n",
      "출력3\n",
      "출력4\n"
     ]
    }
   ],
   "source": [
    "b = 0\n",
    "while b < 5:\n",
    "    print(f\"출력{b}\")\n",
    "    b += 1\n"
   ]
  }
 ],
 "metadata": {
  "kernelspec": {
   "display_name": "Python 3",
   "language": "python",
   "name": "python3"
  },
  "language_info": {
   "codemirror_mode": {
    "name": "ipython",
    "version": 3
   },
   "file_extension": ".py",
   "mimetype": "text/x-python",
   "name": "python",
   "nbconvert_exporter": "python",
   "pygments_lexer": "ipython3",
   "version": "3.11.9"
  }
 },
 "nbformat": 4,
 "nbformat_minor": 2
}
