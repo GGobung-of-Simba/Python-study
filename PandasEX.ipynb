{
 "cells": [
  {
   "cell_type": "code",
   "execution_count": 1,
   "metadata": {},
   "outputs": [],
   "source": [
    "#Q51\n",
    "#판다스의 시리즈 클래스를 사용하기 위해 주로 사용하는 두 가지 방식으로 임포트해보세요.\n",
    "\n",
    "\n",
    "import pandas as pd\n",
    "\n",
    "#모르던 방법\n",
    "from pandas import Series"
   ]
  },
  {
   "cell_type": "code",
   "execution_count": 5,
   "metadata": {},
   "outputs": [
    {
     "name": "stdout",
     "output_type": "stream",
     "text": [
      "0    100\n",
      "1    200\n",
      "2    300\n",
      "dtype: int64\n"
     ]
    }
   ],
   "source": [
    "#Q52\n",
    "점수 = [100, 200, 300]\n",
    "pd.Series(data = 점수)\n",
    "print (pd.Series(data = 점수))"
   ]
  },
  {
   "cell_type": "code",
   "execution_count": null,
   "metadata": {},
   "outputs": [
    {
     "name": "stdout",
     "output_type": "stream",
     "text": [
      "철수    100\n",
      "영희    200\n",
      "아름    300\n",
      "dtype: int64\n"
     ]
    }
   ],
   "source": [
    "#Q53\n",
    "i = ['철수', '영희', '아름']\n",
    "pd.Series(점수, i)\n",
    "print (pd.Series(점수, i))"
   ]
  },
  {
   "cell_type": "code",
   "execution_count": null,
   "metadata": {},
   "outputs": [
    {
     "name": "stdout",
     "output_type": "stream",
     "text": [
      "[{'index': '철수', '점수': 100}, {'index': '영희', '점수': 200}, {'index': '아름', '점수': 300}]\n",
      "100    철수\n",
      "200    영희\n",
      "300    아름\n",
      "dtype: object\n"
     ]
    }
   ],
   "source": [
    "#Q54 !!!!!!!!!!오답\n",
    "dict = []\n",
    "dict.append({\"index\":'철수', \"점수\":100})\n",
    "dict.append({\"index\":'영희', \"점수\":200})\n",
    "dict.append({\"index\":'아름', \"점수\":300})\n",
    "print(dict)\n",
    "# 딕셔너리를 생성하여 시리즈 객체를 만든 것이아님\n",
    "# 딕셔너리 리스트를 생성하였음.\n",
    "print(pd.Series(['철수', '영희', '아름'], [100, 200, 300]))\n",
    "# 딕셔너리를 이용하지 않음"
   ]
  },
  {
   "cell_type": "code",
   "execution_count": 27,
   "metadata": {},
   "outputs": [
    {
     "name": "stdout",
     "output_type": "stream",
     "text": [
      "철수    100\n",
      "영희    200\n",
      "아름    300\n",
      "dtype: int64\n"
     ]
    }
   ],
   "source": [
    "dict = {\n",
    "    \"철수\": 100,\n",
    "    \"영희\": 200,\n",
    "    \"아름\": 300\n",
    "}\n",
    "s = Series(dict)\n",
    "print(s)"
   ]
  },
  {
   "cell_type": "code",
   "execution_count": 29,
   "metadata": {},
   "outputs": [
    {
     "data": {
      "text/plain": [
       "삼성전자      73000\n",
       "셀트리온     356000\n",
       "카카오      367000\n",
       "삼성전자우     68600\n",
       "현대바이오     34150\n",
       "dtype: int64"
      ]
     },
     "execution_count": 29,
     "metadata": {},
     "output_type": "execute_result"
    }
   ],
   "source": [
    "#Q55\n",
    "종목 = ['삼성전자', '셀트리온', '카카오', '삼성전자우', '현대바이오']\n",
    "종가 = [73000, 356000, 367000, 68600, 34150]\n",
    "pd.Series(종가, 종목)"
   ]
  },
  {
   "cell_type": "code",
   "execution_count": null,
   "metadata": {},
   "outputs": [
    {
     "name": "stdout",
     "output_type": "stream",
     "text": [
      "Index(['철수', '영희', '아름'], dtype='object')\n",
      "철수    100\n",
      "영희    200\n",
      "아름    300\n",
      "dtype: int64\n"
     ]
    }
   ],
   "source": [
    "#Q56\n",
    "data = [100, 200, 300]\n",
    "index = [\"철수\", \"영희\", \"아름\"]\n",
    "s = Series(data, index)\n",
    "print (s.index)\n",
    "print (s)\n"
   ]
  },
  {
   "cell_type": "code",
   "execution_count": 43,
   "metadata": {},
   "outputs": [
    {
     "name": "stdout",
     "output_type": "stream",
     "text": [
      "[100 200 300]\n"
     ]
    }
   ],
   "source": [
    "#57\n",
    "data = [100, 200, 300]\n",
    "index = [\"철수\", \"영희\", \"아름\"]\n",
    "s = Series(data, index)\n",
    "\n",
    "print (s.values)"
   ]
  },
  {
   "cell_type": "code",
   "execution_count": 45,
   "metadata": {},
   "outputs": [
    {
     "name": "stdout",
     "output_type": "stream",
     "text": [
      "{'철수': 100, '영희': 200, '아름': 300}\n"
     ]
    }
   ],
   "source": [
    "#58 !!!!!!!!!!! 안배웠는데 이런게 있다\n",
    "data = [100, 200, 300]\n",
    "index = [\"철수\", \"영희\", \"아름\"]\n",
    "s = Series(data, index)\n",
    "print( s.to_dict() )\n"
   ]
  },
  {
   "cell_type": "code",
   "execution_count": null,
   "metadata": {},
   "outputs": [],
   "source": [
    "#59\n",
    "# 엑셀파일 만들려면 openpyxl 라이브러리 설치해야함\n",
    "# pip install openpyxl\n",
    "data = [100, 200, 300]\n",
    "index = [\"철수\", \"영희\", \"아름\"]\n",
    "s = Series(data, index)\n",
    "s\n",
    "s.to_excel(\"data.xlsx\")"
   ]
  },
  {
   "cell_type": "code",
   "execution_count": null,
   "metadata": {},
   "outputs": [
    {
     "data": {
      "text/plain": [
       "철수    100\n",
       "영희    200\n",
       "아름    300\n",
       "Name: 0, dtype: int64"
      ]
     },
     "execution_count": 66,
     "metadata": {},
     "output_type": "execute_result"
    }
   ],
   "source": [
    "#60\n",
    "#데이터가 기입된 엑셀파일을 불러 올 수 있음\n",
    "pd.read_excel(\"data.xlsx\")\n",
    "#엑셀 형식으로 표를 불러옴.\n",
    "pd.read_excel('data.xlsx', index_col=0)[0]\n",
    "#시리즈 객체로 불러옴."
   ]
  }
 ],
 "metadata": {
  "kernelspec": {
   "display_name": "Python 3",
   "language": "python",
   "name": "python3"
  },
  "language_info": {
   "codemirror_mode": {
    "name": "ipython",
    "version": 3
   },
   "file_extension": ".py",
   "mimetype": "text/x-python",
   "name": "python",
   "nbconvert_exporter": "python",
   "pygments_lexer": "ipython3",
   "version": "3.11.9"
  }
 },
 "nbformat": 4,
 "nbformat_minor": 2
}
