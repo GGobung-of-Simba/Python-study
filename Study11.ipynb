{
 "cells": [
  {
   "cell_type": "code",
   "execution_count": null,
   "metadata": {},
   "outputs": [
    {
     "name": "stdout",
     "output_type": "stream",
     "text": [
      "True\n",
      "True\n",
      "False\n"
     ]
    }
   ],
   "source": [
    "a = open(\"1.txt\",encoding='UTF-8')\n",
    "#한글을 사용하기위해 인코딩을 해야함.\n",
    "\n",
    "print(a.readline)\n",
    "print(a.readline)\n",
    "# 행별로 프린트를 해주어야 함.\n",
    "# 그렇다면 행 수 별로 반복문을 돌리면 됨.\n",
    "\n",
    "#행 수는 어케구할까?\n"
   ]
  },
  {
   "cell_type": "code",
   "execution_count": null,
   "metadata": {},
   "outputs": [
    {
     "name": "stdout",
     "output_type": "stream",
     "text": [
      "True\n",
      "True\n",
      "False\n"
     ]
    }
   ],
   "source": [
    "#행 수는 어케구할까?\n",
    "a = open(\"1.txt\",encoding='UTF-8')\n",
    "\n",
    "print(a.readline()!=\"\")\n",
    "print(a.readline()!=\"\")\n",
    "print(a.readline()!=\"\")\n",
    "# 비었는지 안비었는지 일단 확인해보자\n",
    "# 이 기능을 활용해보자"
   ]
  },
  {
   "cell_type": "code",
   "execution_count": 26,
   "metadata": {},
   "outputs": [
    {
     "name": "stdout",
     "output_type": "stream",
     "text": [
      "abcd가나다라\n",
      "\n",
      "abcde\n"
     ]
    }
   ],
   "source": [
    "a = open(\"1.txt\",encoding='UTF-8')\n",
    "while 1:\n",
    "    txt = a.readline()\n",
    "    if txt ==\"\":\n",
    "        break\n",
    "    else:\n",
    "        print(txt)"
   ]
  },
  {
   "cell_type": "code",
   "execution_count": 35,
   "metadata": {},
   "outputs": [
    {
     "name": "stdout",
     "output_type": "stream",
     "text": [
      "abcd가나다라\n",
      "\n",
      "abcde\n",
      "2\n"
     ]
    }
   ],
   "source": [
    "a = open(\"1.txt\",encoding='UTF-8')\n",
    "countline = 0\n",
    "while 1:\n",
    "    txt = a.readline()\n",
    "    \n",
    "    if txt ==\"\":\n",
    "        break\n",
    "    countline +=1\n",
    "    print(txt)\n",
    "\n",
    "print(countline)\n"
   ]
  },
  {
   "cell_type": "code",
   "execution_count": 41,
   "metadata": {},
   "outputs": [],
   "source": [
    "b = open(\"1.txt\", mode = \"a\", encoding = \"UTF = 8\")\n",
    "b.write(\"\\n글 추가\")\n",
    "b.close()\n",
    "# w: 기존 내용 삭제 후 다시 내용 채우기\n",
    "# a: 기존 내용 뒤로 추가 (단, 행을 변경해서 추가 할 경우는 \\n을 넣기)\n",
    "# 파이썬 doc의 2 자료형의 특수기호 확인 요망\n",
    "\n"
   ]
  },
  {
   "cell_type": "code",
   "execution_count": 48,
   "metadata": {},
   "outputs": [],
   "source": [
    "b = open(\"1.txt\", mode = \"a\", encoding = \"UTF = 8\")\n",
    "txt = input(\"글 추가하세요.\")\n",
    "b.write(f\"\\n{txt}\")\n",
    "b.close()\n"
   ]
  },
  {
   "cell_type": "code",
   "execution_count": null,
   "metadata": {},
   "outputs": [],
   "source": [
    "#파일을 열고 작동시키는 것을 함수화하고\n",
    "#메모장 처럼 사용 할 수 있도록 구현해보아라\n"
   ]
  }
 ],
 "metadata": {
  "kernelspec": {
   "display_name": "Python 3",
   "language": "python",
   "name": "python3"
  },
  "language_info": {
   "codemirror_mode": {
    "name": "ipython",
    "version": 3
   },
   "file_extension": ".py",
   "mimetype": "text/x-python",
   "name": "python",
   "nbconvert_exporter": "python",
   "pygments_lexer": "ipython3",
   "version": "3.11.9"
  }
 },
 "nbformat": 4,
 "nbformat_minor": 2
}
