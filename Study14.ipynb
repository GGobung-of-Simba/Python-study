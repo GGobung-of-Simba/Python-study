{
 "cells": [
  {
   "cell_type": "code",
   "execution_count": 112,
   "metadata": {},
   "outputs": [],
   "source": [
    "from bs4 import BeautifulSoup\n",
    "import requests as req\n",
    "import pandas as pd"
   ]
  },
  {
   "cell_type": "code",
   "execution_count": 113,
   "metadata": {},
   "outputs": [
    {
     "data": {
      "text/plain": [
       "'\\n<!DOCTYPE html>\\n<!-- 다큐먼트의 유형은 html5, html의 표준이 5버전 임. \\n 다른 버전을 쓰려면 html다음에 버전을 적어줘야 함  -->\\n<html>\\n    <!-- <></>의 형식을 잘 알아두자, 시작되는 부분과 끝인 부분을 알려준다. -->\\n    <head>\\n        <meta charset=\"utf-8\">\\n        <!-- <head>는 설정하는 부분이다.\\n            한글이 브라우저에서 깨지게 된다면\\n            윗줄의  <meta charset=\"utf-8\">를 설정하여 한글이 사용 될 수 있게 만들자 -->\\n    </head>\\n    <body>\\n        <h1>안녕하세요.1</h1>\\n        <h1>안녕하세요.2</h1>\\n        <h3>안녕하세요.3</h3>\\n        <h1>안녕하세요.4</h1>\\n        <h5>안녕하세요.5</h5>\\n        <h6>안녕하세요.6</h6>\\n\\n    </body>\\n        <!--실질적인 내용은 바디에 있다.\\n        바디에 있는 내용을 브라우저에 출력하기 때문.-->\\n\\n</html>\\n\\n'"
      ]
     },
     "execution_count": 113,
     "metadata": {},
     "output_type": "execute_result"
    }
   ],
   "source": [
    "html = '''\n",
    "<!DOCTYPE html>\n",
    "<!-- 다큐먼트의 유형은 html5, html의 표준이 5버전 임. \n",
    " 다른 버전을 쓰려면 html다음에 버전을 적어줘야 함  -->\n",
    "<html>\n",
    "    <!-- <></>의 형식을 잘 알아두자, 시작되는 부분과 끝인 부분을 알려준다. -->\n",
    "    <head>\n",
    "        <meta charset=\"utf-8\">\n",
    "        <!-- <head>는 설정하는 부분이다.\n",
    "            한글이 브라우저에서 깨지게 된다면\n",
    "            윗줄의  <meta charset=\"utf-8\">를 설정하여 한글이 사용 될 수 있게 만들자 -->\n",
    "    </head>\n",
    "    <body>\n",
    "        <h1>안녕하세요.1</h1>\n",
    "        <h1>안녕하세요.2</h1>\n",
    "        <h3>안녕하세요.3</h3>\n",
    "        <h1>안녕하세요.4</h1>\n",
    "        <h5>안녕하세요.5</h5>\n",
    "        <h6>안녕하세요.6</h6>\n",
    "\n",
    "    </body>\n",
    "        <!--실질적인 내용은 바디에 있다.\n",
    "        바디에 있는 내용을 브라우저에 출력하기 때문.-->\n",
    "\n",
    "</html>\n",
    "\n",
    "'''\n",
    "html"
   ]
  },
  {
   "cell_type": "code",
   "execution_count": 114,
   "metadata": {},
   "outputs": [
    {
     "data": {
      "text/plain": [
       "\n",
       "<!DOCTYPE html>\n",
       "\n",
       "<!-- 다큐먼트의 유형은 html5, html의 표준이 5버전 임. \n",
       " 다른 버전을 쓰려면 html다음에 버전을 적어줘야 함  -->\n",
       "<html>\n",
       "<!-- <></>의 형식을 잘 알아두자, 시작되는 부분과 끝인 부분을 알려준다. -->\n",
       "<head>\n",
       "<meta charset=\"utf-8\"/>\n",
       "<!-- <head>는 설정하는 부분이다.\n",
       "            한글이 브라우저에서 깨지게 된다면\n",
       "            윗줄의  <meta charset=\"utf-8\">를 설정하여 한글이 사용 될 수 있게 만들자 -->\n",
       "</head>\n",
       "<body>\n",
       "<h1>안녕하세요.1</h1>\n",
       "<h1>안녕하세요.2</h1>\n",
       "<h3>안녕하세요.3</h3>\n",
       "<h1>안녕하세요.4</h1>\n",
       "<h5>안녕하세요.5</h5>\n",
       "<h6>안녕하세요.6</h6>\n",
       "</body>\n",
       "<!--실질적인 내용은 바디에 있다.\n",
       "        바디에 있는 내용을 브라우저에 출력하기 때문.-->\n",
       "</html>"
      ]
     },
     "execution_count": 114,
     "metadata": {},
     "output_type": "execute_result"
    }
   ],
   "source": [
    "data = BeautifulSoup(html, 'html.parser')\n",
    "#data.body\n",
    "data\n"
   ]
  },
  {
   "cell_type": "code",
   "execution_count": 115,
   "metadata": {},
   "outputs": [
    {
     "data": {
      "text/plain": [
       "'안녕하세요.3'"
      ]
     },
     "execution_count": 115,
     "metadata": {},
     "output_type": "execute_result"
    }
   ],
   "source": [
    "data.find(\"h3\").text"
   ]
  },
  {
   "cell_type": "code",
   "execution_count": 116,
   "metadata": {},
   "outputs": [
    {
     "data": {
      "text/plain": [
       "'<!DOCTYPE html>\\r\\n<!-- 다큐먼트의 유형은 html5, html의 표준이 5버전 임. \\r\\n 다른 버전을 쓰려면 html다음에 버전을 적어줘야 함  -->\\r\\n<html>\\r\\n    <!-- <></>의 형식을 잘 알아두자, 시작되는 부분과 끝인 부분을 알려준다. -->\\r\\n    <head>\\r\\n        <meta charset=\"utf-8\">\\r\\n        <!-- <head>는 설정하는 부분이다.\\r\\n            한글이 브라우저에서 깨지게 된다면\\r\\n            윗줄의  <meta charset=\"utf-8\">를 설정하여 한글이 사용 될 수 있게 만들자 -->\\r\\n    </head>\\r\\n    <body>\\r\\n        <h1>회원 목록</h1>\\r\\n        <table>\\r\\n            <thead>\\r\\n                <th>\\r\\n                    <td>번호</td>\\r\\n                    <td>이름</td>\\r\\n                    <td>나이</td>\\r\\n                </th>\\r\\n            </thead>\\r\\n            <tbody>\\r\\n                <tr>\\r\\n                    <td>1</td>\\r\\n                    <td>홍길동</td>\\r\\n                    <td>17</td>\\r\\n                </tr>\\r\\n                <tr>\\r\\n                    <td>2</td>\\r\\n                    <td>류관순</td>\\r\\n                    <td>16</td>\\r\\n                </tr>\\r\\n            </tbody>\\r\\n        </table>\\r\\n    <!-- Code injected by live-server -->\\n<script>\\n\\t// <![CDATA[  <-- For SVG support\\n\\tif (\\'WebSocket\\' in window) {\\n\\t\\t(function () {\\n\\t\\t\\tfunction refreshCSS() {\\n\\t\\t\\t\\tvar sheets = [].slice.call(document.getElementsByTagName(\"link\"));\\n\\t\\t\\t\\tvar head = document.getElementsByTagName(\"head\")[0];\\n\\t\\t\\t\\tfor (var i = 0; i < sheets.length; ++i) {\\n\\t\\t\\t\\t\\tvar elem = sheets[i];\\n\\t\\t\\t\\t\\tvar parent = elem.parentElement || head;\\n\\t\\t\\t\\t\\tparent.removeChild(elem);\\n\\t\\t\\t\\t\\tvar rel = elem.rel;\\n\\t\\t\\t\\t\\tif (elem.href && typeof rel != \"string\" || rel.length == 0 || rel.toLowerCase() == \"stylesheet\") {\\n\\t\\t\\t\\t\\t\\tvar url = elem.href.replace(/(&|\\\\?)_cacheOverride=\\\\d+/, \\'\\');\\n\\t\\t\\t\\t\\t\\telem.href = url + (url.indexOf(\\'?\\') >= 0 ? \\'&\\' : \\'?\\') + \\'_cacheOverride=\\' + (new Date().valueOf());\\n\\t\\t\\t\\t\\t}\\n\\t\\t\\t\\t\\tparent.appendChild(elem);\\n\\t\\t\\t\\t}\\n\\t\\t\\t}\\n\\t\\t\\tvar protocol = window.location.protocol === \\'http:\\' ? \\'ws://\\' : \\'wss://\\';\\n\\t\\t\\tvar address = protocol + window.location.host + window.location.pathname + \\'/ws\\';\\n\\t\\t\\tvar socket = new WebSocket(address);\\n\\t\\t\\tsocket.onmessage = function (msg) {\\n\\t\\t\\t\\tif (msg.data == \\'reload\\') window.location.reload();\\n\\t\\t\\t\\telse if (msg.data == \\'refreshcss\\') refreshCSS();\\n\\t\\t\\t};\\n\\t\\t\\tif (sessionStorage && !sessionStorage.getItem(\\'IsThisFirstTime_Log_From_LiveServer\\')) {\\n\\t\\t\\t\\tconsole.log(\\'Live reload enabled.\\');\\n\\t\\t\\t\\tsessionStorage.setItem(\\'IsThisFirstTime_Log_From_LiveServer\\', true);\\n\\t\\t\\t}\\n\\t\\t})();\\n\\t}\\n\\telse {\\n\\t\\tconsole.error(\\'Upgrade your browser. This Browser is NOT supported WebSocket for Live-Reloading.\\');\\n\\t}\\n\\t// ]]>\\n</script>\\n</body>\\r\\n        <!--실질적인 내용은 바디에 있다.\\r\\n        바디에 있는 내용을 브라우저에 출력하기 때문.-->\\r\\n\\r\\n    \\r\\n</html>\\r\\n'"
      ]
     },
     "execution_count": 116,
     "metadata": {},
     "output_type": "execute_result"
    }
   ],
   "source": [
    "r = req.get('http://127.0.0.1:5500/Study01.html')\n",
    "r.text"
   ]
  },
  {
   "cell_type": "code",
   "execution_count": 117,
   "metadata": {},
   "outputs": [],
   "source": [
    "def print1(data):\n",
    "    arr = data.find_all(\"h1\")\n",
    "    for txt in arr:\n",
    "        print(type(txt.text))"
   ]
  },
  {
   "cell_type": "code",
   "execution_count": 120,
   "metadata": {},
   "outputs": [
    {
     "name": "stdout",
     "output_type": "stream",
     "text": [
      "['1', '2']\n",
      "['이름', '나이']\n"
     ]
    },
    {
     "data": {
      "text/html": [
       "<div>\n",
       "<style scoped>\n",
       "    .dataframe tbody tr th:only-of-type {\n",
       "        vertical-align: middle;\n",
       "    }\n",
       "\n",
       "    .dataframe tbody tr th {\n",
       "        vertical-align: top;\n",
       "    }\n",
       "\n",
       "    .dataframe thead th {\n",
       "        text-align: right;\n",
       "    }\n",
       "</style>\n",
       "<table border=\"1\" class=\"dataframe\">\n",
       "  <thead>\n",
       "    <tr style=\"text-align: right;\">\n",
       "      <th></th>\n",
       "      <th>이름</th>\n",
       "      <th>나이</th>\n",
       "    </tr>\n",
       "  </thead>\n",
       "  <tbody>\n",
       "    <tr>\n",
       "      <th>1</th>\n",
       "      <td>홍길동</td>\n",
       "      <td>17</td>\n",
       "    </tr>\n",
       "    <tr>\n",
       "      <th>2</th>\n",
       "      <td>류관순</td>\n",
       "      <td>16</td>\n",
       "    </tr>\n",
       "  </tbody>\n",
       "</table>\n",
       "</div>"
      ],
      "text/plain": [
       "    이름  나이\n",
       "1  홍길동  17\n",
       "2  류관순  16"
      ]
     },
     "execution_count": 120,
     "metadata": {},
     "output_type": "execute_result"
    }
   ],
   "source": [
    "r = req.get('http://127.0.0.1:5500/Study01.html')\n",
    "data1 = BeautifulSoup(r.text, 'html.parser')\n",
    "data1.find(\"th\").find_all(\"td\")\n",
    "\n",
    "idx = []\n",
    "col = []\n",
    "data2 = data1.find(\"th\").find_all(\"td\")\n",
    "for i in range(1, len(data2)):\n",
    "    col.append(data2[i].text)\n",
    "list = []\n",
    "data3 = data1.find(\"tbody\").find_all(\"tr\")\n",
    "for i in range(len(data3)):\n",
    "    arr = []\n",
    "    data4 = data3[i].find_all(\"td\")\n",
    "    idx.append(data4[0].text)\n",
    "    for j in range(1, len(data4)):\n",
    "        arr.append(data4[j].text)\n",
    "    list.append(arr)\n",
    "print (idx)\n",
    "print (col)    \n",
    "df = pd.DataFrame(list, index=idx, columns=col)\n",
    "df\n",
    "\n"
   ]
  }
 ],
 "metadata": {
  "kernelspec": {
   "display_name": "Python 3",
   "language": "python",
   "name": "python3"
  },
  "language_info": {
   "codemirror_mode": {
    "name": "ipython",
    "version": 3
   },
   "file_extension": ".py",
   "mimetype": "text/x-python",
   "name": "python",
   "nbconvert_exporter": "python",
   "pygments_lexer": "ipython3",
   "version": "3.11.9"
  }
 },
 "nbformat": 4,
 "nbformat_minor": 2
}
