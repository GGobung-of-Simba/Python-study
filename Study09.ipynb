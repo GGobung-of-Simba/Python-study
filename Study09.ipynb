{
 "cells": [
  {
   "cell_type": "code",
   "execution_count": null,
   "metadata": {},
   "outputs": [
    {
     "data": {
      "text/plain": [
       "{'key': 'value'}"
      ]
     },
     "execution_count": 2,
     "metadata": {},
     "output_type": "execute_result"
    }
   ],
   "source": [
    "a={'key':'value'}\n",
    "a\n",
    "# 딕셔너리 만들기"
   ]
  },
  {
   "cell_type": "code",
   "execution_count": null,
   "metadata": {},
   "outputs": [
    {
     "data": {
      "text/plain": [
       "'value'"
      ]
     },
     "execution_count": 4,
     "metadata": {},
     "output_type": "execute_result"
    }
   ],
   "source": [
    "a['key']\n",
    "#딕셔너리 키를 부르면 밸류가 나옴"
   ]
  },
  {
   "cell_type": "code",
   "execution_count": null,
   "metadata": {},
   "outputs": [
    {
     "data": {
      "text/plain": [
       "'value'"
      ]
     },
     "execution_count": 6,
     "metadata": {},
     "output_type": "execute_result"
    }
   ],
   "source": [
    "a.get('key')\n",
    "#딕셔너리 겟 사용법"
   ]
  },
  {
   "cell_type": "code",
   "execution_count": 8,
   "metadata": {},
   "outputs": [
    {
     "data": {
      "text/plain": [
       "100"
      ]
     },
     "execution_count": 8,
     "metadata": {},
     "output_type": "execute_result"
    }
   ],
   "source": [
    "\n",
    "a['key']=100\n",
    "a.get('key')\n",
    "#밸류 바꾸기"
   ]
  },
  {
   "cell_type": "code",
   "execution_count": 14,
   "metadata": {},
   "outputs": [
    {
     "data": {
      "text/plain": [
       "{'key': 2}"
      ]
     },
     "execution_count": 14,
     "metadata": {},
     "output_type": "execute_result"
    }
   ],
   "source": [
    "a={'key':1, 'key':2}\n",
    "a\n",
    "# 밸류 바꾸기\n",
    "# 키가 중복되면 맨 마지막 키로 수정 됨."
   ]
  },
  {
   "cell_type": "code",
   "execution_count": null,
   "metadata": {},
   "outputs": [
    {
     "data": {
      "text/plain": [
       "{}"
      ]
     },
     "execution_count": 15,
     "metadata": {},
     "output_type": "execute_result"
    }
   ],
   "source": [
    "del a['key']\n",
    "a\n",
    "# 키 하나만 지우는 거"
   ]
  },
  {
   "cell_type": "code",
   "execution_count": 17,
   "metadata": {},
   "outputs": [
    {
     "data": {
      "text/plain": [
       "{}"
      ]
     },
     "execution_count": 17,
     "metadata": {},
     "output_type": "execute_result"
    }
   ],
   "source": [
    "a.clear()\n",
    "a\n",
    "# 다 지우는거"
   ]
  },
  {
   "cell_type": "code",
   "execution_count": null,
   "metadata": {},
   "outputs": [
    {
     "data": {
      "text/plain": [
       "{'번호': 1, '이름': '홍길동', '나이': 19, '직업': '도둑'}"
      ]
     },
     "execution_count": 20,
     "metadata": {},
     "output_type": "execute_result"
    }
   ],
   "source": [
    "a={\n",
    "    \"번호\":1,\n",
    "    \"이름\":\"홍길동\",\n",
    "    \"나이\":19,\n",
    "    \"직업\":\"도둑\"\n",
    "}\n"
   ]
  },
  {
   "cell_type": "code",
   "execution_count": 23,
   "metadata": {},
   "outputs": [
    {
     "data": {
      "text/plain": [
       "{'번호': 1, '이름': '홍길동', '나이': 19, '직업': ['도둑', '의적']}"
      ]
     },
     "execution_count": 23,
     "metadata": {},
     "output_type": "execute_result"
    }
   ],
   "source": [
    "#밸류를 리스트로 바꾸는 방법 (밸류가 2개 이상일 경우)\n",
    "a ['직업'] = ['도둑','의적']\n",
    "a\n",
    "            "
   ]
  },
  {
   "cell_type": "code",
   "execution_count": 30,
   "metadata": {},
   "outputs": [
    {
     "data": {
      "text/plain": [
       "{'번호': 1, '이름': '홍길동', '나이': 19, '직업': ['나쁜놈', '의적']}"
      ]
     },
     "execution_count": 30,
     "metadata": {},
     "output_type": "execute_result"
    }
   ],
   "source": [
    "'''\n",
    "a['직업'][0]='나쁜놈'\n",
    "a\n",
    "'''\n",
    "b=a['직업']\n",
    "b[0] = '나쁜놈'\n",
    "a"
   ]
  },
  {
   "cell_type": "code",
   "execution_count": 28,
   "metadata": {},
   "outputs": [
    {
     "data": {
      "text/plain": [
       "list"
      ]
     },
     "execution_count": 28,
     "metadata": {},
     "output_type": "execute_result"
    }
   ],
   "source": [
    "type(a)\n",
    "#a의 타입이 뭐야?\n",
    "#dict = 딕셔너리\n",
    "type(a['직업'])\n",
    "#a['직업']의 타입이 뭐야?\n",
    "#list = 리스트"
   ]
  },
  {
   "cell_type": "code",
   "execution_count": null,
   "metadata": {},
   "outputs": [
    {
     "data": {
      "text/plain": [
       "['홍길동', '김민수', '이영희']"
      ]
     },
     "execution_count": 38,
     "metadata": {},
     "output_type": "execute_result"
    }
   ],
   "source": [
    "# Q1. 리스트에 학생 정보가 들어 있는 자료형을 선택하여 추가하려고 한다.\n",
    "# 예 {'no':1, 'name':'홍길동',...}\n",
    "# 3명의 학생 정보를 담으려면 어떻게 해야 할까?\n",
    "# keys = ['no', 'name', 'age']\n",
    "\n",
    "Q1 = {'no':[1,2,3], 'name':['홍길동', '김민수', '이영희'], 'age':[19,20,21]}\n",
    "# 오답\n",
    "# 딕셔너리의 경우 데이터를 추가하거나 삭제하는 경우가 많기 때문에 덩어리로 넣는 방법이 좋을 수 있음."
   ]
  },
  {
   "cell_type": "code",
   "execution_count": 39,
   "metadata": {},
   "outputs": [
    {
     "data": {
      "text/plain": [
       "[{'no': 1, 'name': '홍길동', 'age': 19},\n",
       " {'no': 2, 'name': '김민수', 'age': 20},\n",
       " {'no': 3, 'name': '이영희', 'age': 21}]"
      ]
     },
     "execution_count": 39,
     "metadata": {},
     "output_type": "execute_result"
    }
   ],
   "source": [
    "q1=[]\n",
    "q1.append({'no':1, 'name':'홍길동', 'age':19})\n",
    "q1.append({'no':2, 'name':'김민수', 'age':20})\n",
    "q1.append({'no':3, 'name':'이영희', 'age':21})\n",
    "q1"
   ]
  },
  {
   "cell_type": "code",
   "execution_count": 43,
   "metadata": {},
   "outputs": [
    {
     "name": "stdout",
     "output_type": "stream",
     "text": [
      "거짓\n"
     ]
    }
   ],
   "source": [
    "if []:\n",
    "    print (\"참\")\n",
    "else:\n",
    "    print (\"거짓\")\n",
    "\n",
    "# 0 = 없다 = false\n",
    "\n"
   ]
  },
  {
   "cell_type": "code",
   "execution_count": 45,
   "metadata": {},
   "outputs": [
    {
     "name": "stdout",
     "output_type": "stream",
     "text": [
      "참\n"
     ]
    }
   ],
   "source": [
    "if [1]:\n",
    "    print (\"참\")\n",
    "else:\n",
    "    print (\"거짓\")"
   ]
  },
  {
   "cell_type": "code",
   "execution_count": 47,
   "metadata": {},
   "outputs": [
    {
     "name": "stdout",
     "output_type": "stream",
     "text": [
      "거짓\n"
     ]
    }
   ],
   "source": [
    "if {}:\n",
    "    print (\"참\")\n",
    "else:\n",
    "    print (\"거짓\")"
   ]
  },
  {
   "cell_type": "code",
   "execution_count": 49,
   "metadata": {},
   "outputs": [
    {
     "data": {
      "text/plain": [
       "True"
      ]
     },
     "execution_count": 49,
     "metadata": {},
     "output_type": "execute_result"
    }
   ],
   "source": [
    "bool('1')"
   ]
  },
  {
   "cell_type": "code",
   "execution_count": 51,
   "metadata": {},
   "outputs": [
    {
     "name": "stdout",
     "output_type": "stream",
     "text": [
      "false\n"
     ]
    }
   ],
   "source": [
    "if bool(''):\n",
    "    print(\"true\")\n",
    "else :\n",
    "    print (\"false\")\n",
    "    "
   ]
  },
  {
   "cell_type": "code",
   "execution_count": 53,
   "metadata": {},
   "outputs": [
    {
     "name": "stdout",
     "output_type": "stream",
     "text": [
      "true\n"
     ]
    }
   ],
   "source": [
    "if bool('1'):\n",
    "    print(\"true\")\n",
    "else :\n",
    "    print (\"false\")"
   ]
  },
  {
   "cell_type": "code",
   "execution_count": 54,
   "metadata": {},
   "outputs": [
    {
     "name": "stdout",
     "output_type": "stream",
     "text": [
      "<class 'list'> <class 'set'>\n"
     ]
    }
   ],
   "source": [
    "a=[1,2,3,4]\n",
    "b=tuple(a)\n",
    "c=list(b)\n",
    "d=set(a)\n",
    "print(type(a),type(d))\n",
    "\n",
    "#set, tuple, list는 서로서로 형변환이 가능함."
   ]
  },
  {
   "cell_type": "code",
   "execution_count": null,
   "metadata": {},
   "outputs": [],
   "source": [
    "# & 교집합 연산자, inersection 교집합 함수\n",
    "# | 합집합 연산자, union 합집합 함수\n",
    "# - 차집합 연산자, diffrence 차집합 함수\n",
    "# add 집합에 원소를 더하는 함수\n",
    "# update 집합에 집합을 더하는 함수\n",
    "# remove 집합의 원소를 제거하는 함수."
   ]
  },
  {
   "cell_type": "code",
   "execution_count": 57,
   "metadata": {},
   "outputs": [
    {
     "data": {
      "text/plain": [
       "{1, 2, 3, 4, 5}"
      ]
     },
     "execution_count": 57,
     "metadata": {},
     "output_type": "execute_result"
    }
   ],
   "source": [
    "s1 = set([1,2,3])\n",
    "s1.update([3,4,5])\n",
    "s1"
   ]
  },
  {
   "cell_type": "code",
   "execution_count": null,
   "metadata": {},
   "outputs": [
    {
     "data": {
      "text/plain": [
       "[0, 1, 1, 2, 3, 5, 8, 13, 21, 34, 55]"
      ]
     },
     "metadata": {},
     "output_type": "display_data"
    }
   ],
   "source": [
    "#[0, 1, 1, 2, 3, 5, 8, 13, 21, 34, 55, 89, 144,...]\n",
    "\n",
    "a = [0, 1]\n",
    "for i in range(1, 10):\n",
    "    a.append(a[i-1] + a[i])\n",
    "\n",
    "    #오답\n",
    "    #a[i+1] = a[i-1] + a[i]\n",
    "a"
   ]
  },
  {
   "cell_type": "code",
   "execution_count": 66,
   "metadata": {},
   "outputs": [],
   "source": [
    "arr = [1,2,0,3,5,4,7]\n",
    "# 위의 배열을 사용하여 가장 긴 수열의 길이를 구하시오.\n"
   ]
  },
  {
   "cell_type": "code",
   "execution_count": null,
   "metadata": {},
   "outputs": [
    {
     "name": "stdout",
     "output_type": "stream",
     "text": [
      "1 2 2\n",
      "2 3 3\n",
      "3\n"
     ]
    }
   ],
   "source": [
    "arr = [1,2,0,3,5,4,7]\n",
    "최대길이 = 1\n",
    "연속 = 1\n",
    "for i in range(1,len(arr)):\n",
    "    # arr[1] = 2 \n",
    "    # arr[0] = 1\n",
    "    if arr[i] > arr[i-1]:\n",
    "        연속 += 1\n",
    "    else :\n",
    "        # 수열이 되는지 확인 할 수 있도록 연속이 되는지 확인 하기 위한 코드\n",
    "        print(최대길이,연속, max(최대길이,연속))\n",
    "        최대길이 = max(최대길이,연속)\n",
    "        연속 = 1\n",
    "최대길이 = max(최대길이,연속)\n",
    "print(최대길이)\n",
    "\n",
    "# 연속되는 세 개의 수 구하기\n",
    "#...\n"
   ]
  }
 ],
 "metadata": {
  "kernelspec": {
   "display_name": "Python 3",
   "language": "python",
   "name": "python3"
  },
  "language_info": {
   "codemirror_mode": {
    "name": "ipython",
    "version": 3
   },
   "file_extension": ".py",
   "mimetype": "text/x-python",
   "name": "python",
   "nbconvert_exporter": "python",
   "pygments_lexer": "ipython3",
   "version": "3.11.9"
  }
 },
 "nbformat": 4,
 "nbformat_minor": 2
}
