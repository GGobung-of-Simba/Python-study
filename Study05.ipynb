{
 "cells": [
  {
   "cell_type": "code",
   "execution_count": 4,
   "metadata": {},
   "outputs": [
    {
     "data": {
      "text/plain": [
       "int"
      ]
     },
     "execution_count": 4,
     "metadata": {},
     "output_type": "execute_result"
    }
   ],
   "source": [
    "a=1\n",
    "a\n",
    "#1\n",
    "type(a)\n",
    "#int"
   ]
  },
  {
   "cell_type": "code",
   "execution_count": null,
   "metadata": {},
   "outputs": [
    {
     "data": {
      "text/plain": [
       "'def'"
      ]
     },
     "execution_count": 10,
     "metadata": {},
     "output_type": "execute_result"
    }
   ],
   "source": [
    "a = \"abcdef\"\n",
    "a.find('d')\n",
    "#3\n",
    "a.index('d')\n",
    "#3\n",
    "a[:]\n",
    "#'abcdef'\n",
    "a[3:]\n",
    "#'def'\n",
    "a[3:-1]\n",
    "#'de'\n"
   ]
  },
  {
   "cell_type": "code",
   "execution_count": null,
   "metadata": {},
   "outputs": [
    {
     "data": {
      "text/plain": [
       "'ab3'"
      ]
     },
     "execution_count": 18,
     "metadata": {},
     "output_type": "execute_result"
    }
   ],
   "source": [
    "#문자와 숫자를 함께쓰는 방법\n",
    "b=\"ab%s\"%\"c\"\n",
    "b\n",
    "b=\"ab%d\"%3\n",
    "b\n",
    "c=\"ab\"+\"3\"\n",
    "c\n",
    "d=\"ab\"+str(3)\n",
    "d\n",
    "e=\"ab\"+\"{0}\".format(1)\n",
    "e\n",
    "f=f\"ab{1}\"\n",
    "f\n",
    "# 형변환을 하거나\n",
    "# 포매팅을 활용"
   ]
  },
  {
   "cell_type": "code",
   "execution_count": 35,
   "metadata": {},
   "outputs": [
    {
     "data": {
      "text/plain": [
       "['a', 'b', 'c', 'd', 'e', 'f']"
      ]
     },
     "execution_count": 35,
     "metadata": {},
     "output_type": "execute_result"
    }
   ],
   "source": [
    "b=\",\".join(a)\n",
    "b\n",
    "c=b.split(\",\")\n",
    "c"
   ]
  },
  {
   "cell_type": "code",
   "execution_count": null,
   "metadata": {},
   "outputs": [],
   "source": [
    "a = \"Feeling grateful and content today\"\n",
    "#Q1 위의 a변수에 들어있는 문자 중에 'n'이 몇 번 들어있는지 출력하시오.\n",
    "a.count(\"n\")\n",
    "#Q2 위의 a변수에 들어있는 내용 중에 빈칸을 이용하여 조각을 내시오\n",
    "a.split(\" \")\n",
    "#['Feeling', 'grateful', 'and', 'content', 'today']\n",
    "\n",
    "#Q3 위의 조각 난 문자열을 이용하여 가장 많이 사용되는 문자는 무엇인지 알아보시오\n"
   ]
  },
  {
   "cell_type": "code",
   "execution_count": 110,
   "metadata": {},
   "outputs": [
    {
     "name": "stdout",
     "output_type": "stream",
     "text": [
      "['Feeling : 2', 'grateful : 1', 'and : 1', 'content : 2', 'today : 1']\n"
     ]
    }
   ],
   "source": [
    "a = \"Feeling grateful and content today\"\n",
    "arr=a.split(\" \")\n",
    "strs = []\n",
    "#arr = [Feeling, grateful, and, content, today]\n",
    "\n",
    "for txt in arr: #arr 갯수만큼 txt꺼내라\n",
    "    t=\",\".join(txt).split(\",\")\n",
    "    ts = []\n",
    "    for s in t:\n",
    "        if s not in ts:\n",
    "            ts.append(s)\n",
    "    b=0\n",
    "    for s in ts:        \n",
    "        #print (f\"{txt} : {t} > {txt.conut(s)}\")\n",
    "        \n",
    "        if b < txt.count(s):\n",
    "            b=txt.count(s)\n",
    "    strs.append(f\"{txt} : {b}\")\n",
    "print(strs)    "
   ]
  }
 ],
 "metadata": {
  "kernelspec": {
   "display_name": "Python 3",
   "language": "python",
   "name": "python3"
  },
  "language_info": {
   "codemirror_mode": {
    "name": "ipython",
    "version": 3
   },
   "file_extension": ".py",
   "mimetype": "text/x-python",
   "name": "python",
   "nbconvert_exporter": "python",
   "pygments_lexer": "ipython3",
   "version": "3.11.9"
  }
 },
 "nbformat": 4,
 "nbformat_minor": 2
}
