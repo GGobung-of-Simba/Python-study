{
 "cells": [
  {
   "cell_type": "code",
   "execution_count": 15,
   "metadata": {},
   "outputs": [],
   "source": [
    "def 글길이구하기(파일):\n",
    "    글 = open(파일,encoding=\"utf=8\")\n",
    "    cnt = 0\n",
    "    while 1:\n",
    "        if 글.readline() == \"\":\n",
    "            break\n",
    "        else:\n",
    "            cnt += 1\n",
    "    글.close()\n",
    "    return cnt\n",
    "\n",
    "def 메모짱():\n",
    "    파일 = \"2.txt\"\n",
    "    cnt = 글길이구하기(파일)\n",
    "    메모 = open(\"2.txt\", mode = \"a\", encoding = \"UTF = 8\")\n",
    "    while 1:\n",
    "        txt = input(\"내용 추가란\")\n",
    "        if txt == \"\":\n",
    "            #직접 빈 입력을 해보면서 빈 입력자체가 실행이 되는지\n",
    "            #꼭 확인하는 버릇\n",
    "            break\n",
    "        if cnt == 0:\n",
    "            cnt +=1\n",
    "        메모.write(f\"\\n{txt}\")\n",
    "    메모.close()\n",
    "메모짱()"
   ]
  },
  {
   "cell_type": "code",
   "execution_count": null,
   "metadata": {},
   "outputs": [
    {
     "name": "stdout",
     "output_type": "stream",
     "text": [
      "abcd가나다라\n",
      "abcd\n",
      "글 추가\n",
      "아\n",
      "오늘 날씨가 그렇게 맑다고?\n"
     ]
    },
    {
     "data": {
      "text/plain": [
       "['abcd가나다라', 'abcd', '글 추가', '아', '오늘 날씨가 그렇게 맑다고?']"
      ]
     },
     "execution_count": 38,
     "metadata": {},
     "output_type": "execute_result"
    }
   ],
   "source": [
    "b = open(\"1.txt\", mode = \"r\", encoding = \"UTF = 8\")\n",
    "c = b.readlines()\n",
    "d = []\n",
    "for txt in c:\n",
    "    print(txt.replace(\"\\n\",\"\"))\n",
    "    d.append((txt.replace(\"\\n\",\"\")))\n",
    "d    "
   ]
  },
  {
   "cell_type": "code",
   "execution_count": 41,
   "metadata": {},
   "outputs": [
    {
     "data": {
      "text/plain": [
       "['abcd가나다라', 'abcd', '글 추가', '아', '오늘 날씨가 그렇게 맑다고?']"
      ]
     },
     "execution_count": 41,
     "metadata": {},
     "output_type": "execute_result"
    }
   ],
   "source": [
    "b = open(\"1.txt\", mode = \"r\", encoding = \"UTF = 8\")\n",
    "c = b.readlines()\n",
    "for i in range(len(c)):\n",
    "    c[i] = c[i].replace(\"\\n\",\"\")\n",
    "c"
   ]
  },
  {
   "cell_type": "code",
   "execution_count": 43,
   "metadata": {},
   "outputs": [
    {
     "data": {
      "text/plain": [
       "['abcd가나다라', 'abcd', '글 추가', '아', '오늘 날씨가 그렇게 맑다고?']"
      ]
     },
     "execution_count": 43,
     "metadata": {},
     "output_type": "execute_result"
    }
   ],
   "source": [
    "b = open(\"1.txt\", mode = \"r\", encoding = \"UTF = 8\")\n",
    "c = b.readlines()\n",
    "for i in range(len(c)):\n",
    "    c[i] = c[i].strip()\n",
    "c"
   ]
  },
  {
   "cell_type": "code",
   "execution_count": 47,
   "metadata": {},
   "outputs": [
    {
     "data": {
      "text/plain": [
       "'cccd가나다라 cccd 글 추가 아 오늘 날씨가 그렇게 맑다고? '"
      ]
     },
     "execution_count": 47,
     "metadata": {},
     "output_type": "execute_result"
    }
   ],
   "source": [
    "b = open(\"1.txt\", mode = \"r\", encoding = \"UTF = 8\")\n",
    "b.read().replace(\"\\n\",\" \").replace(\"a\",\"b\").replace(\"b\",\"c\")"
   ]
  },
  {
   "cell_type": "code",
   "execution_count": null,
   "metadata": {},
   "outputs": [
    {
     "name": "stdout",
     "output_type": "stream",
     "text": [
      "1*1=1\n",
      "1*2=2\n",
      "1*3=3\n",
      "1*4=4\n",
      "1*5=5\n",
      "1*6=6\n",
      "1*7=7\n",
      "1*8=8\n",
      "1*9=9\n",
      "2*1=2\n",
      "2*2=4\n",
      "2*3=6\n",
      "2*4=8\n",
      "2*5=10\n",
      "2*6=12\n",
      "2*7=14\n",
      "2*8=16\n",
      "2*9=18\n",
      "3*1=3\n",
      "3*2=6\n",
      "3*3=9\n",
      "3*4=12\n",
      "3*5=15\n",
      "3*6=18\n",
      "3*7=21\n",
      "3*8=24\n",
      "3*9=27\n",
      "4*1=4\n",
      "4*2=8\n",
      "4*3=12\n",
      "4*4=16\n",
      "4*5=20\n",
      "4*6=24\n",
      "4*7=28\n",
      "4*8=32\n",
      "4*9=36\n",
      "5*1=5\n",
      "5*2=10\n",
      "5*3=15\n",
      "5*4=20\n",
      "5*5=25\n",
      "5*6=30\n",
      "5*7=35\n",
      "5*8=40\n",
      "5*9=45\n",
      "6*1=6\n",
      "6*2=12\n",
      "6*3=18\n",
      "6*4=24\n",
      "6*5=30\n",
      "6*6=36\n",
      "6*7=42\n",
      "6*8=48\n",
      "6*9=54\n",
      "7*1=7\n",
      "7*2=14\n",
      "7*3=21\n",
      "7*4=28\n",
      "7*5=35\n",
      "7*6=42\n",
      "7*7=49\n",
      "7*8=56\n",
      "7*9=63\n",
      "8*1=8\n",
      "8*2=16\n",
      "8*3=24\n",
      "8*4=32\n",
      "8*5=40\n",
      "8*6=48\n",
      "8*7=56\n",
      "8*8=64\n",
      "8*9=72\n",
      "9*1=9\n",
      "9*2=18\n",
      "9*3=27\n",
      "9*4=36\n",
      "9*5=45\n",
      "9*6=54\n",
      "9*7=63\n",
      "9*8=72\n",
      "9*9=81\n"
     ]
    },
    {
     "data": {
      "text/plain": [
       "_io.TextIOWrapper"
      ]
     },
     "execution_count": 65,
     "metadata": {},
     "output_type": "execute_result"
    }
   ],
   "source": [
    "b = open(\"3.csv\", mode=\"w\",encoding = \"UTF = 8\")\n",
    "for i in range(1, 10):\n",
    "    for j in range(1, 10):\n",
    "        print (f\"{i}*{j}={i*j}\")\n",
    "        b.write(f\"{i},{j},{i*j}\\n\")\n",
    "b.close()\n",
    "     "
   ]
  },
  {
   "cell_type": "code",
   "execution_count": 100,
   "metadata": {},
   "outputs": [
    {
     "name": "stdout",
     "output_type": "stream",
     "text": [
      "29\n",
      "28\n",
      "27\n",
      "26\n",
      "25\n",
      "24\n",
      "23\n",
      "22\n",
      "21\n",
      "49\n",
      "48\n",
      "47\n",
      "46\n",
      "45\n",
      "44\n",
      "43\n",
      "42\n",
      "41\n"
     ]
    }
   ],
   "source": [
    "#Q\n",
    "# 문서를 읽어와서 읽은 문서의 형식을 화면에 출력해봐라\n",
    "b = open(\"q.csv\", mode=\"r\",encoding = \"UTF = 8\")\n",
    "c = b.readlines()\n",
    "\n",
    "for i in c:\n",
    "    i.split(\":\")\n",
    "    print(i.replace(\"\\n\",\"\").replace(\",\",\"\"))\n",
    "    #d.append(i.replace(\"\\n\",\"\").replace(\",\",\"\"))\n",
    "#d.split(':')\n",
    "\n",
    "\n"
   ]
  },
  {
   "cell_type": "code",
   "execution_count": 108,
   "metadata": {},
   "outputs": [
    {
     "name": "stdout",
     "output_type": "stream",
     "text": [
      "2*9=18\n",
      "2*8=16\n",
      "2*7=14\n",
      "2*6=12\n",
      "2*5=10\n",
      "2*4=8\n",
      "2*3=6\n",
      "2*2=4\n",
      "2*1=2\n",
      "4*9=36\n",
      "4*8=32\n",
      "4*7=28\n",
      "4*6=24\n",
      "4*5=20\n",
      "4*4=16\n",
      "4*3=12\n",
      "4*2=8\n",
      "4*1=4\n"
     ]
    }
   ],
   "source": [
    "b = open(\"q.csv\", mode=\"r\",encoding = \"UTF = 8\")\n",
    "c = b.readlines()\n",
    "\n",
    "for i in range(len(c)):\n",
    "    c[i] = c[i].replace(\"\\n\", \"\").split(\",\")\n",
    "\n",
    "b.close\n",
    "c\n",
    "\n",
    "for list in c:\n",
    "    print (f\"{list[0]}*{list[1]}={int(list[0])*int(list[1])}\")"
   ]
  }
 ],
 "metadata": {
  "kernelspec": {
   "display_name": "Python 3",
   "language": "python",
   "name": "python3"
  },
  "language_info": {
   "codemirror_mode": {
    "name": "ipython",
    "version": 3
   },
   "file_extension": ".py",
   "mimetype": "text/x-python",
   "name": "python",
   "nbconvert_exporter": "python",
   "pygments_lexer": "ipython3",
   "version": "3.11.9"
  }
 },
 "nbformat": 4,
 "nbformat_minor": 2
}
